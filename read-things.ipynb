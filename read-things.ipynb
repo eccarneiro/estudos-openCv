{
 "cells": [
  {
   "cell_type": "code",
   "execution_count": null,
   "metadata": {},
   "outputs": [],
   "source": [
    "import cv2 as cv\n",
    "\n",
    "#Live video\n",
    "def changeRes(width, height):\n",
    "    capture.set(3, width)\n",
    "    capture.set(4, height)\n",
    "\n",
    "# Live video, videos and pictures\n",
    "def rescaleFrame(frame, scale=0.75):\n",
    "    width = int(frame.shape[1] * scale)\n",
    "    height = int(frame.shape[0] * scale) \n",
    "    dimensions = (width, height)\n",
    "\n",
    "    return cv.resize(frame, dimensions, interpolation=cv.INTER_AREA)\n",
    "\n",
    "capture = cv.VideoCapture('videos/cat-video2.mp4')\n",
    "\n",
    "while True:\n",
    "    isTrue, frame = capture.read()\n",
    "\n",
    "    frame_resized = rescaleFrame(frame, scale=.2)\n",
    "    cv.imshow('cat resized', frame_resized)\n",
    "   \n",
    "    if cv.waitKey(20) & 0xFF == ord('d'):\n",
    "        break\n",
    "\n",
    "capture.release()\n",
    "cv.destroyAllWindows()\n"
   ]
  },
  {
   "cell_type": "code",
   "execution_count": 10,
   "metadata": {},
   "outputs": [],
   "source": [
    "#draw images, RETANGLE\n",
    "\n",
    "import cv2 as cv\n",
    "import numpy as np\n",
    "\n",
    "blank = np.zeros((500, 500, 3), dtype='uint8') # define um array preenchido de zeros\n",
    "# 500px de altura, 500px de largura, 3 canais (RGB)\n",
    "# 3 canais (RGB)\n",
    "cv.imshow('Blank', blank)\n",
    "\n",
    "\n",
    "blank[20:30, 30: 40] = 255, 0, 0 # o operador ':' significa que estamos pegando todos os pixels, todos os elementos do array. \n",
    "cv.imshow('Green', blank)\n",
    "\n",
    "cv.rectangle(blank, (0,0), (250, 500), (0, 255, 0), thickness=1) # (0,0) é o ponto superior esquerdo e (250, 250) é o ponto inferior direito\n",
    "cv.imshow('Rectangle', blank)\n",
    "\n",
    "cv.waitKey(0)\n",
    "cv.destroyAllWindows()"
   ]
  },
  {
   "cell_type": "code",
   "execution_count": 32,
   "metadata": {},
   "outputs": [],
   "source": [
    "#Desenhando um retângulo em uma imagem com np, e pintando\n",
    "import cv2 as cv\n",
    "import numpy as np\n",
    "\n",
    "img = np.zeros((256,256, 3), dtype='uint8')\n",
    "\n",
    "(h, w) = img.shape[:2]\n",
    "\n",
    "x1, y1 = w//4, h//4 \n",
    "x2, y2 = w//2 + h//4, h//2 + h//4\n",
    "\n",
    "img[y1:y2, x1:x2]= np.random.uniform( 0, 255, size=(128,128, 3)).astype('uint8')\n",
    "\n",
    "cv.imshow('Rectangle', img)\n",
    "\n",
    "cv.waitKey(0)\n",
    "cv.destroyAllWindows()"
   ]
  },
  {
   "cell_type": "code",
   "execution_count": 3,
   "metadata": {},
   "outputs": [],
   "source": [
    "# Draw circles\n",
    "import cv2 as cv\n",
    "import numpy as np\n",
    "\n",
    "blank = np.zeros((500, 500, 3), dtype='uint8')\n",
    "\n",
    "cv.circle(blank, (blank.shape[1]//2, blank.shape[0]//2), 40, (255, 0, 0), thickness=1) # (x, y) é o centro do círculo e 40 é o raio\n",
    "cv.imshow('Circle', blank)\n",
    "cv.waitKey(0)\n",
    "cv.destroyAllWindows()"
   ]
  },
  {
   "cell_type": "code",
   "execution_count": null,
   "metadata": {},
   "outputs": [],
   "source": [
    "#draw lines\n",
    "import cv2 as cv\n",
    "import numpy as np\n",
    "blank = np.zeros((500, 500, 3), dtype='uint8')\n",
    "cv.line(blank, (100,250),(300,400), (255, 255, 255), thickness=3 )\n",
    "cv.imshow('Line', blank)\n",
    "cv.waitKey(0)\n",
    "cv.destroyAllWindows()"
   ]
  },
  {
   "cell_type": "code",
   "execution_count": 1,
   "metadata": {},
   "outputs": [],
   "source": [
    "# Write text\n",
    "import cv2 as cv\n",
    "import numpy as np\n",
    "blank = np.zeros((500, 500, 3), dtype='uint8')\n",
    "cv.putText(blank, 'Hello', (250, 250), cv.FONT_HERSHEY_TRIPLEX, 1.0, (0, 255, 0), thickness=2)\n",
    "cv.imshow('Text', blank)\n",
    "cv.waitKey(0)\n",
    "cv.destroyAllWindows()"
   ]
  },
  {
   "cell_type": "code",
   "execution_count": null,
   "metadata": {},
   "outputs": [],
   "source": [
    "import cv2 as cv\n",
    "import numpy as np\n",
    "\n",
    "img = cv.imread('images/quadra.jpeg')\n",
    "\n",
    "resized = cv.resize(img, (400, 300))\n",
    "cv.imshow('Resized Image', resized)\n",
    "\n",
    "def translate(img, x, y):\n",
    "    transMat = np.float32([[1, 0 ,x], [0, 1, y]])\n",
    "    dimensions = (img.shape[1], img.shape[0])\n",
    "    return cv.warpAffine(img, transMat, dimensions)\n",
    "# -x --> Left\n",
    "# +x --> Right\n",
    "# -y --> Up\n",
    "# +y --> Down \n",
    "\n",
    "translated = translate(resized, -200, 100)\n",
    "cv.imshow('Translated Image', translated)\n",
    "\n",
    "cv.waitKey(0)\n",
    "cv.destroyAllWindows()"
   ]
  },
  {
   "cell_type": "code",
   "execution_count": 39,
   "metadata": {},
   "outputs": [],
   "source": [
    "#Rotation\n",
    "import cv2 as cv\n",
    "import numpy as np\n",
    "\n",
    "img = cv.imread('images/quadra.jpeg')\n",
    "resized = cv.resize(img, (400, 300))\n",
    "\n",
    "def rotate(img, angle, rotPoint=None):\n",
    "    (h, w) = img.shape[:2]\n",
    "    if rotPoint is None:\n",
    "        rotPoint = ( w/2, h/2) # ponto pivô\n",
    "    rotMat = cv.getRotationMatrix2D(rotPoint, angle, 1.0)\n",
    "    dimensions = (w, h)\n",
    "    return cv.warpAffine(img, rotMat, dimensions)\n",
    "\n",
    "rotated = rotate(resized, -45)\n",
    "rotated_rotated = rotate(rotated, -45 )\n",
    "cv.imshow('Rotated Rotated', rotated_rotated)\n",
    "cv.waitKey(0)\n",
    "cv.destroyAllWindows()\n",
    "        "
   ]
  },
  {
   "cell_type": "code",
   "execution_count": null,
   "metadata": {},
   "outputs": [],
   "source": [
    "# fliping\n",
    "\n",
    "import cv2 as cv\n",
    "\n",
    "img = cv.imread('images/quadra.jpeg')\n",
    "resized = cv.resize(img, (500, 400), interpolation=cv.INTER_CUBIC)\n",
    "flip = cv.flip(resized, 1) # 0 = horizontal, 1 = vertical, -1 = os dois\n",
    "cv.imshow('Flipped Image', resized) # inverte o lado 'espelhado'\n",
    "cv.waitKey(0)\n",
    "cv.destroyAllWindows()"
   ]
  },
  {
   "cell_type": "code",
   "execution_count": 3,
   "metadata": {},
   "outputs": [],
   "source": [
    "# cropping\n",
    "import cv2 as cv\n",
    "\n",
    "img = cv.imread('images/quadra.jpeg')\n",
    "resized = cv.resize(img, (500, 400), interpolation=cv.INTER_CUBIC)\n",
    "crop = resized[50:200, 200:400] # y1:y2, x1:x2\n",
    "cv.imshow('Cropped Image', crop)\n",
    "cv.waitKey(0)\n",
    "cv.destroyAllWindows()\n"
   ]
  },
  {
   "cell_type": "code",
   "execution_count": null,
   "metadata": {},
   "outputs": [
    {
     "name": "stdout",
     "output_type": "stream",
     "text": [
      "2476 contours found!\n"
     ]
    }
   ],
   "source": [
    "# contour detection - > contorno\n",
    "\n",
    "import cv2 as cv\n",
    "import numpy as np\n",
    "img = cv.imread('images/quadra.jpeg')\n",
    "resized = cv.resize(img, (500, 400), interpolation=cv.INTER_CUBIC)\n",
    "# cv.imshow('Resized', resized)\n",
    "blank = np.zeros(resized.shape, dtype='uint8')\n",
    "\n",
    "gray = cv.cvtColor(resized, cv.COLOR_BGR2GRAY)\n",
    "# cv.imshow('Gray', gray)\n",
    "blur = cv.GaussianBlur(gray, (5,5), cv.BORDER_DEFAULT)\n",
    "\n",
    "\n",
    "ret, thresh = cv.threshold(gray, 125, 255, cv.THRESH_BINARY)\n",
    "# cv.imshow('Thresh', thresh)\n",
    "\n",
    "contours, hierarchies = cv.findContours(thresh, cv.RETR_LIST, cv.CHAIN_APPROX_SIMPLE)\n",
    "print(f'{len(contours)} contours found!')   \n",
    "\n",
    "#desenhando contornos\n",
    "# cv.drawContours(resized, contours, -1, (0, 255, 0), thickness=1) # -1 = todos os contornos\n",
    "cv.drawContours(blank, contours, -1, (0, 255, 0), thickness=1)\n",
    "\n",
    "cv.imshow('Contours', blank)\n",
    "\n",
    "\n",
    "# cv.imshow('Dog', gray)\n",
    "\n",
    "\n",
    "# cv.imshow('Blurred', blur)\n",
    "cv.waitKey(0)\n",
    "cv.destroyAllWindows()\n"
   ]
  },
  {
   "cell_type": "code",
   "execution_count": null,
   "metadata": {},
   "outputs": [
    {
     "ename": "error",
     "evalue": "OpenCV(4.11.0) /io/opencv/modules/imgproc/src/color.simd_helpers.hpp:92: error: (-15:Bad number of channels) in function 'cv::impl::{anonymous}::CvtHelper<VScn, VDcn, VDepth, sizePolicy>::CvtHelper(cv::InputArray, cv::OutputArray, int) [with VScn = cv::impl::{anonymous}::Set<1>; VDcn = cv::impl::{anonymous}::Set<3, 4>; VDepth = cv::impl::{anonymous}::Set<0, 2, 5>; cv::impl::{anonymous}::SizePolicy sizePolicy = cv::impl::<unnamed>::NONE; cv::InputArray = const cv::_InputArray&; cv::OutputArray = const cv::_OutputArray&]'\n> Invalid number of channels in input image:\n>     'VScn::contains(scn)'\n> where\n>     'scn' is 3\n",
     "output_type": "error",
     "traceback": [
      "\u001b[31m---------------------------------------------------------------------------\u001b[39m",
      "\u001b[31merror\u001b[39m                                     Traceback (most recent call last)",
      "\u001b[36mCell\u001b[39m\u001b[36m \u001b[39m\u001b[32mIn[29]\u001b[39m\u001b[32m, line 14\u001b[39m\n\u001b[32m     12\u001b[39m gray = cv.cvtColor(resized, cv.COLOR_BGR2GRAY)\n\u001b[32m     13\u001b[39m cv.imshow(\u001b[33m'\u001b[39m\u001b[33mGray\u001b[39m\u001b[33m'\u001b[39m, gray)\n\u001b[32m---> \u001b[39m\u001b[32m14\u001b[39m gray_bgr = \u001b[43mcv\u001b[49m\u001b[43m.\u001b[49m\u001b[43mcvtColor\u001b[49m\u001b[43m(\u001b[49m\u001b[43mimg_gray\u001b[49m\u001b[43m,\u001b[49m\u001b[43m \u001b[49m\u001b[43mcv\u001b[49m\u001b[43m.\u001b[49m\u001b[43mCOLOR_GRAY2BGR\u001b[49m\u001b[43m)\u001b[49m\n\u001b[32m     15\u001b[39m cv.imshow(\u001b[33m'\u001b[39m\u001b[33mGray BGR\u001b[39m\u001b[33m'\u001b[39m, gray_bgr)\n\u001b[32m     16\u001b[39m \u001b[38;5;66;03m#BGR to SV \u001b[39;00m\n",
      "\u001b[31merror\u001b[39m: OpenCV(4.11.0) /io/opencv/modules/imgproc/src/color.simd_helpers.hpp:92: error: (-15:Bad number of channels) in function 'cv::impl::{anonymous}::CvtHelper<VScn, VDcn, VDepth, sizePolicy>::CvtHelper(cv::InputArray, cv::OutputArray, int) [with VScn = cv::impl::{anonymous}::Set<1>; VDcn = cv::impl::{anonymous}::Set<3, 4>; VDepth = cv::impl::{anonymous}::Set<0, 2, 5>; cv::impl::{anonymous}::SizePolicy sizePolicy = cv::impl::<unnamed>::NONE; cv::InputArray = const cv::_InputArray&; cv::OutputArray = const cv::_OutputArray&]'\n> Invalid number of channels in input image:\n>     'VScn::contains(scn)'\n> where\n>     'scn' is 3\n"
     ]
    }
   ],
   "source": [
    "import cv2 as cv\n",
    "import matplotlib.pyplot as plt\n",
    "img = cv.imread('images/quadra.jpeg')\n",
    "resized = cv.resize(img, (500, 400), interpolation=cv.INTER_CUBIC)\n",
    "\n",
    "# plt.imshow(resized)\n",
    "# plt.show()\n",
    "# BRG = BLUE RED, GREEN\n",
    "#BGR to GrayScale\n",
    "gray = cv.cvtColor(resized, cv.COLOR_BGR2GRAY)\n",
    "cv.imshow('Gray', gray)\n",
    "#BGR to SV \n",
    "hsv = cv.cvtColor(resized, cv.COLOR_BGR2HSV)\n",
    "cv.imshow('HSV', hsv)\n",
    "\n",
    "#BGR to LAB\n",
    "\n",
    "lab = cv.cvtColor(resized, cv.COLOR_BGR2LAB)\n",
    "cv.imshow('LAB', lab)\n",
    "\n",
    "#BGR to RGB\n",
    "rgb = cv.cvtColor(resized, cv.COLOR_BGR2RGB)\n",
    "cv.imshow('RGB', rgb)\n",
    "\n",
    "plt.imshow(rgb)\n",
    "plt.show()\n",
    "cv.waitKey(0)\n",
    "cv.destroyAllWindows()"
   ]
  },
  {
   "cell_type": "code",
   "execution_count": null,
   "metadata": {},
   "outputs": [
    {
     "ename": "",
     "evalue": "",
     "output_type": "error",
     "traceback": [
      "\u001b[1;31mThe Kernel crashed while executing code in the current cell or a previous cell. \n",
      "\u001b[1;31mPlease review the code in the cell(s) to identify a possible cause of the failure. \n",
      "\u001b[1;31mClick <a href='https://aka.ms/vscodeJupyterKernelCrash'>here</a> for more info. \n",
      "\u001b[1;31mView Jupyter <a href='command:jupyter.viewOutput'>log</a> for further details."
     ]
    }
   ],
   "source": []
  },
  {
   "cell_type": "code",
   "execution_count": null,
   "metadata": {},
   "outputs": [],
   "source": []
  }
 ],
 "metadata": {
  "kernelspec": {
   "display_name": "venv",
   "language": "python",
   "name": "python3"
  },
  "language_info": {
   "codemirror_mode": {
    "name": "ipython",
    "version": 3
   },
   "file_extension": ".py",
   "mimetype": "text/x-python",
   "name": "python",
   "nbconvert_exporter": "python",
   "pygments_lexer": "ipython3",
   "version": "3.12.3"
  }
 },
 "nbformat": 4,
 "nbformat_minor": 2
}
